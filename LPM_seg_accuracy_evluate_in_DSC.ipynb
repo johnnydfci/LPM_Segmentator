{
 "cells": [
  {
   "cell_type": "markdown",
   "id": "ed6ed850",
   "metadata": {},
   "source": [
    "# **Overview**\n",
    "\n",
    "This script evaluates the performance of an **automated segmentation model** for medical images by comparing its results to manually labeled ground truth data. The comparison is based on **Dice similarity coefficients (DSC)**. The script computes both **global DSC** and **label-specific DSC** (for labels 1 to 4), saves the results in a CSV file, and visualizes the distribution of global DSC scores.\n",
    "\n",
    "---\n",
    "\n",
    "## **Key Steps**\n",
    "\n",
    "### **1. Setup and File Matching**\n",
    "- Define directories for manual and automated segmentation files.\n",
    "- Extract patient IDs from filenames and match them with the corresponding segmentation files.\n",
    "\n",
    "### **2. Segmentation Comparison and Metric Calculation**\n",
    "- Read manual and automated segmentations using **SimpleITK**.\n",
    "- Compute:\n",
    "  - **Global Dice coefficient**: Measures overall segmentation accuracy.\n",
    "  - **Label-specific Dice coefficients** (1 through 4): Measures accuracy for each specific region or label.\n",
    "\n",
    "### **3. Results Storage**\n",
    "- Save the computed metrics (global and label-specific DSC) into a **CSV file** for future analysis.\n",
    "\n",
    "### **4. Visualization**\n",
    "- Generate a **histogram** of global Dice coefficients to visualize the distribution.\n",
    "- Calculate and display **summary statistics**, including mean and standard deviation of the global DSC scores.\n",
    "\n",
    "---\n"
   ]
  },
  {
   "cell_type": "code",
   "execution_count": 1,
   "id": "32f27c11",
   "metadata": {},
   "outputs": [
    {
     "name": "stderr",
     "output_type": "stream",
     "text": [
      "<frozen importlib._bootstrap>:219: RuntimeWarning: scipy._lib.messagestream.MessageStream size changed, may indicate binary incompatibility. Expected 56 from C header, got 64 from PyObject\n"
     ]
    }
   ],
   "source": [
    "# Import necessary libraries\n",
    "from medpy.metric import binary  # For Dice similarity calculation\n",
    "import pandas as pd  # For handling tabular data\n",
    "import SimpleITK as sitk  # For reading and processing medical images\n",
    "import numpy as np  # For array manipulations\n",
    "import os  # For file handling\n",
    "import matplotlib.pyplot as plt  # For plotting histograms\n",
    "\n",
    "# Helper function to find the file path of a segmentation given the patient ID\n",
    "def get_image_path_by_id(patient_id, image_dir):\n",
    "    \"\"\"\n",
    "    Finds and returns the file path of a segmentation file based on the patient ID.\n",
    "    Args:\n",
    "    - patient_id (str): The ID of the patient.\n",
    "    - image_dir (str): Directory containing segmentation files.\n",
    "\n",
    "    Returns:\n",
    "    - str: File path of the segmentation file.\n",
    "    \"\"\"\n",
    "    file_name = [\n",
    "        os.path.relpath(os.path.join(image_dir, x))\n",
    "        for x in os.listdir(image_dir)\n",
    "        if os.path.isfile(os.path.join(image_dir, x)) and patient_id in x\n",
    "    ][0]\n",
    "    return file_name\n"
   ]
  },
  {
   "cell_type": "code",
   "execution_count": 2,
   "id": "9a96d2c6",
   "metadata": {},
   "outputs": [],
   "source": [
    "# Define directories for manual and automated segmentations\n",
    "manual_seg_dir = 'nnUNet_raw_data_base/nnUNet_test_data/test_seg_in_nii/'\n",
    "auto_seg_dir = 'nnUNet_raw_data_base/nnUNet_test_data/test_label_in_nii/'\n",
    "csv_write_path = 'nnUNet_raw_data_base/nnUNet_test_data/MRI_metrics_test.csv'\n",
    "\n",
    "# Initialize an empty DataFrame to store metrics\n",
    "df_init = pd.DataFrame()\n",
    "\n",
    "# Get all manual segmentation file paths\n",
    "label_paths = []\n",
    "for r, d, f in os.walk(manual_seg_dir):\n",
    "    for file in f:\n",
    "        if '.nii.gz' in file:\n",
    "            label_path = os.path.join(r, file)\n",
    "            label_paths.append(label_path)\n"
   ]
  },
  {
   "cell_type": "code",
   "execution_count": 5,
   "id": "4fe78dfb",
   "metadata": {},
   "outputs": [
    {
     "name": "stdout",
     "output_type": "stream",
     "text": [
      "1 TUM01_water mapped nnUNet_raw_data_base/nnUNet_test_data/test_label_in_nii/TUM01_water_manual_label_segmentation_L2-L5.nii.gz yeah!!!!!!!!!\n",
      "\n",
      "0 th pid: TUM01_water dsc 0.98531 done into\n",
      " nnUNet_raw_data_base/nnUNet_test_data/MRI_metrics_test.csv\n",
      "Details: dsc_1: 0.98248, dsc_2: 0.97796, dsc_3: 0.98087, dsc_4: 0.98421\n",
      "\n",
      "\n",
      "\n",
      "\n",
      "2 TUM01_fat mapped nnUNet_raw_data_base/nnUNet_test_data/test_label_in_nii/TUM01_fat_manual_label_segmentation_L2-L5.nii.gz yeah!!!!!!!!!\n",
      "\n",
      "1 th pid: TUM01_fat dsc 0.98429 done into\n",
      " nnUNet_raw_data_base/nnUNet_test_data/MRI_metrics_test.csv\n",
      "Details: dsc_1: 0.98159, dsc_2: 0.97524, dsc_3: 0.97804, dsc_4: 0.98315\n",
      "\n",
      "\n",
      "\n",
      "\n"
     ]
    }
   ],
   "source": [
    "# Iterate through manual segmentation files\n",
    "import numpy as np\n",
    "np.bool = np.bool_\n",
    "\n",
    "i = 0\n",
    "for idx, label_path in enumerate(label_paths):\n",
    "    d = label_path.split('/')[-1]\n",
    "    \n",
    "    # Extract patient ID from the file name\n",
    "    indices = [i for i, c in enumerate(d) if c == '_']\n",
    "    pid = d[:indices[1]]\n",
    "    if len(indices) > 2 and 'Bd' in d:\n",
    "        pid = d[:indices[2]]\n",
    "\n",
    "    # Get corresponding automated segmentation path\n",
    "    auto_seg_path = get_image_path_by_id(pid, auto_seg_dir)\n",
    "    manual_seg_path = get_image_path_by_id(pid, manual_seg_dir)\n",
    "\n",
    "    # Proceed only if both files exist\n",
    "    if os.path.exists(auto_seg_path) and os.path.exists(manual_seg_path):\n",
    "        i += 1\n",
    "        print(i, pid, 'mapped', auto_seg_path, 'yeah!!!!!!!!!\\n')\n",
    "        \n",
    "        # Read manual and automated segmentations\n",
    "        manual_seg_sitk = sitk.ReadImage(manual_seg_path)\n",
    "        mskCube = sitk.GetArrayFromImage(manual_seg_sitk)\n",
    "        auto_seg_sitk = sitk.ReadImage(auto_seg_path)\n",
    "        prdCube = sitk.GetArrayFromImage(auto_seg_sitk)\n",
    "\n",
    "        # Calculate global Dice similarity coefficient\n",
    "        dice_score = binary.dc(prdCube, mskCube)\n",
    "\n",
    "        # Calculate Dice scores for each segmentation label (1 to 4)\n",
    "        scores = {}\n",
    "        for label in range(1, 5):\n",
    "            mskCube_label = np.copy(mskCube)\n",
    "            prdCube_label = np.copy(prdCube)\n",
    "            mskCube_label[mskCube_label != label] = 0\n",
    "            prdCube_label[prdCube_label != label] = 0\n",
    "            scores[f'dsc_{label}'] = binary.dc(prdCube_label, mskCube_label)\n",
    "\n",
    "        # Append results to the DataFrame\n",
    "        df = pd.DataFrame({\n",
    "            'CT_id': pid,\n",
    "            'dsc_global': round(dice_score, 5),\n",
    "            **{key: round(value, 5) for key, value in scores.items()}\n",
    "        }, index=[0])\n",
    "        df_init = df_init._append(df, ignore_index=True)\n",
    "        df_init.to_csv(csv_write_path)\n",
    "        \n",
    "        # Print progress\n",
    "        print(idx, 'th pid:', pid, 'dsc', round(dice_score, 5), 'done into\\n', csv_write_path)\n",
    "        print('Details:', ', '.join(f'{key}: {round(value, 5)}' for key, value in scores.items()))\n",
    "        print('\\n\\n\\n')\n"
   ]
  },
  {
   "cell_type": "code",
   "execution_count": 7,
   "id": "42a82af8",
   "metadata": {},
   "outputs": [
    {
     "name": "stdout",
     "output_type": "stream",
     "text": [
      "(2, 6)\n",
      "         CT_id  dsc_global    dsc_1    dsc_2    dsc_3    dsc_4\n",
      "0  TUM01_water     0.98531  0.98248  0.97796  0.98087  0.98421\n",
      "1    TUM01_fat     0.98429  0.98159  0.97524  0.97804  0.98315\n",
      "Mean DSC: 0.9848\n",
      "Standard Deviation DSC: 0.0005100000000000104\n",
      "Total Entries: 2\n"
     ]
    }
   ],
   "source": [
    "# Display the size and first few rows of the results DataFrame\n",
    "print(df_init.shape)\n",
    "print(df_init.head())\n",
    "\n",
    "# Print mean and standard deviation of global Dice scores\n",
    "print(\"Mean DSC:\", np.mean(df_init['dsc_global']))\n",
    "print(\"Standard Deviation DSC:\", np.std(df_init['dsc_global']))\n",
    "print(\"Total Entries:\", df_init['dsc_global'].shape[0])"
   ]
  },
  {
   "cell_type": "code",
   "execution_count": 8,
   "id": "7f10912a",
   "metadata": {
    "scrolled": false
   },
   "outputs": [
    {
     "data": {
      "image/png": "[encoded data removed]",
      "text/plain": [
       "<Figure size 640x480 with 1 Axes>"
      ]
     },
     "metadata": {},
     "output_type": "display_data"
    }
   ],
   "source": [
    "\n",
    "\n",
    "# Plot histogram of global Dice scores\n",
    "plt.hist(df_init['dsc_global'], bins=25)\n",
    "plt.title(\"Histogram of Global Dice Scores\")\n",
    "plt.xlabel(\"Dice Score\")\n",
    "plt.ylabel(\"Frequency\")\n",
    "plt.show()\n",
    "\n"
   ]
  },
  {
   "cell_type": "code",
   "execution_count": null,
   "id": "8d2821cb",
   "metadata": {},
   "outputs": [],
   "source": []
  }
 ],
 "metadata": {
  "kernelspec": {
   "display_name": "Python [conda env:lipa]",
   "language": "python",
   "name": "conda-env-lipa-py"
  },
  "language_info": {
   "codemirror_mode": {
    "name": "ipython",
    "version": 3
   },
   "file_extension": ".py",
   "mimetype": "text/x-python",
   "name": "python",
   "nbconvert_exporter": "python",
   "pygments_lexer": "ipython3",
   "version": "3.8.5"
  }
 },
 "nbformat": 4,
 "nbformat_minor": 5
}
