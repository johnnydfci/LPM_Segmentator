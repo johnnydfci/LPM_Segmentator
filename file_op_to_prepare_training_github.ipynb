{
 "cells": [
  {
   "cell_type": "code",
   "execution_count": null,
   "id": "341f10d7",
   "metadata": {},
   "outputs": [],
   "source": [
    "import os, glob, random, shutil\n",
    "\n",
    "\n",
    "img_dir_train = 'nnUNet_raw_data_base/nnUNet_train_data_raw/img_in_nii_L2-L5/'\n",
    "seg_dir_train = 'nnUNet_raw_data_base/nnUNet_train_data_raw/seg_in_nii_L2-L5/'\n",
    "\n",
    "\n",
    "train_images = sorted(glob.glob(os.path.join(img_dir_train , '*.nii.gz'))) \n",
    "train_labels = sorted(glob.glob(os.path.join(seg_dir_train, '*.nii.gz')))\n",
    "\n",
    "print(len(train_images),len(train_labels))\n",
    "print((train_images[-1]),(train_labels[-1]))\n"
   ]
  },
  {
   "cell_type": "code",
   "execution_count": null,
   "id": "4bd4478c",
   "metadata": {
    "scrolled": true
   },
   "outputs": [],
   "source": [
    "import SimpleITK as sitk  \n",
    "for idx in range(len(train_images)):\n",
    "#     print(idx, train_images[idx], '\\n',train_labels[idx],'\\n\\n')\n",
    "    \n",
    "    img_sitk =sitk.ReadImage(train_images[idx])\n",
    "    img_array =  sitk.GetArrayFromImage(img_sitk)\n",
    "    \n",
    "    seg_sitk =sitk.ReadImage(train_labels[idx])\n",
    "    seg_array =  sitk.GetArrayFromImage(seg_sitk)\n",
    "    \n",
    "    \n",
    "    print(idx,img_array.shape, seg_array.shape, '\\n')\n",
    "    print(img_sitk.GetSpacing(), seg_sitk.GetSpacing(), '\\n')\n",
    "\n",
    "    print(idx, train_images[idx], '\\n',train_labels[idx],'\\n\\n')\n",
    "    \n",
    "    if img_array.shape != seg_array.shape:\n",
    "        print(train_images[idx])\n",
    "        raise Exception(\"Sorry, image and segmentation shape not match\")\n",
    "        \n",
    "    if img_sitk.GetSpacing()!= seg_sitk.GetSpacing():\n",
    "        print(train_images[idx])\n",
    "        raise Exception(\"Sorry, image and segmentation spacing not match\")\n",
    "    "
   ]
  },
  {
   "cell_type": "code",
   "execution_count": null,
   "id": "5b569ce9",
   "metadata": {
    "scrolled": true
   },
   "outputs": [],
   "source": [
    "import shutil\n",
    "\n",
    "for idx, path in enumerate(train_images):\n",
    "    img_name = path.split('/')[-1]\n",
    "    print(img_name)\n",
    "    indices = [i for i, c in enumerate(img_name) if c == '_']\n",
    "#     print(img_name, indices)\n",
    "    case_id = img_name[:indices[1]]\n",
    "    if len(indices)>2 and '_3d' not in img_name :\n",
    "        case_id = img_name[:indices[2]]       \n",
    "        \n",
    "    print( 'case_id::', case_id)\n",
    "    img_path = train_images[idx] \n",
    "    seg_path = train_labels[idx] \n",
    "    print(img_path, '\\n',seg_path,'\\n')"
   ]
  },
  {
   "cell_type": "code",
   "execution_count": null,
   "id": "fee2a99d",
   "metadata": {
    "scrolled": true
   },
   "outputs": [],
   "source": [
    "import shutil\n",
    "\n",
    "\n",
    "targ_dir = 'nnUNet_raw_data_base/nnUNet_train_data/Task515_muscle_raw/'\n",
    "for idx, path in enumerate(train_images):\n",
    "#     print(idx,path,'\\n')\n",
    "    img_name = path.split('/')[-1]\n",
    "    indices = [i for i, c in enumerate(img_name) if c == '_']\n",
    "    case_id = img_name[:indices[1]]\n",
    "    if len(indices)>2 and '_3d' not in img_name :\n",
    "        case_id = img_name[:indices[2]]\n",
    "    print(case_id)\n",
    "    case_dir = targ_dir + case_id + '/'\n",
    "    if not os.path.exists(case_dir):\n",
    "        os.mkdir(case_dir)\n",
    "    img_path = train_images[idx] \n",
    "    targ_img_path = case_dir + 'imaging.nii.gz'\n",
    "    seg_path = train_labels[idx] \n",
    "    targ_seg_path = case_dir + 'segmentation.nii.gz'\n",
    "    \n",
    "    print('img_path:::',img_path, '\\n seg_path:::',seg_path,'\\n')\n",
    "    \n",
    "    print('targ_img_path:::',targ_img_path, '\\n targ_seg_path:::',targ_seg_path,'\\n\\n\\n')\n",
    "    \n",
    "    shutil.copy(img_path, targ_img_path)\n",
    "    shutil.copy(seg_path, targ_seg_path)"
   ]
  },
  {
   "cell_type": "code",
   "execution_count": null,
   "id": "4092e9f2",
   "metadata": {},
   "outputs": [],
   "source": []
  },
  {
   "cell_type": "code",
   "execution_count": null,
   "id": "b35174ee",
   "metadata": {},
   "outputs": [],
   "source": []
  },
  {
   "cell_type": "code",
   "execution_count": null,
   "id": "09ece320",
   "metadata": {},
   "outputs": [],
   "source": [
    "a = ['GL_101_T12-S2', 'GL_102_T12-S2', 'GL_103_T12-S2', 'GL_104_T12-S2', 'GL_105_T12-S2', 'GL_106_T12-S2', 'GL_107_T12-S2', 'GL_108_T12-S2', 'GL_109_T12-S2', 'GL_110_T12-S2', 'GL_111_T12-S2', 'GL_112_T12-S2', 'GL_113_T12-S2', 'GL_114_T12-S2', 'GL_115_T12-S2', 'GL_116_T12-S2', 'GL_117_T12-S2', 'GL_118_T12-S2', 'ID10K_BDCFat', 'ID10K_BDCWater', 'ID10K_R0Fat', 'ID10K_R0Water', 'ID10K_R13Fat', 'ID10K_R13Water', 'ID11L_BDCFat', 'ID11L_BDCWater', 'ID11L_R0Fat', 'ID11L_R0Water', 'ID11L_R13Fat', 'ID11L_R13Water', 'ID12M_BDCFat', 'ID12M_BDCWater', 'ID12M_R0Fat', 'ID12M_R0Water', 'ID12M_R13Fat', 'ID12M_R13Water', 'ID13N_BDCFat', 'ID13N_BDCWater', 'ID13N_R0Fat', 'ID13N_R0Water', 'ID13N_R13Fat', 'ID13N_R13Water', 'ID14P_BDCFat', 'ID14P_BDCWater', 'ID14P_R0Fat', 'ID14P_R0Water', 'ID14P_R13Fat', 'ID14P_R13Water', 'ID15Q_BDCFat', 'ID15Q_BDCWater', 'ID15Q_R0Fat', 'ID15Q_R0Water', 'ID15Q_R13Fat', 'ID15Q_R13Water', 'ID16R_BDCFat', 'ID16R_BDCWater', 'ID16R_R0Fat', 'ID16R_R0Water', 'ID16R_R13Fat', 'ID16R_R13Water', 'ID17S_BDCFat', 'ID17S_BDCWater', 'ID17S_R0Fat', 'ID17S_R0Water', 'ID17S_R13Fat', 'ID17S_R13Water', 'ID18T_BDCFat', 'ID18T_BDCWater', 'ID18T_R0Fat', 'ID18T_R0Water', 'ID18T_R13Fat', 'ID18T_R13Water', 'ID19U_BDCFat', 'ID19U_BDCWater', 'ID19U_R0Fat', 'ID19U_R0Water', 'ID19U_R13Fat', 'ID19U_R13Water', 'ID1A_BDCFat', 'ID1A_BDCWater', 'ID1A_R0Fat', 'ID1A_R0Water', 'ID1A_R13Fat', 'ID1A_R13Water', 'ID20V_BDCFat', 'ID20V_BDCWater', 'ID20V_R0Fat', 'ID20V_R0Water', 'ID20V_R13Fat', 'ID20V_R13Water', 'ID21W_BDCWater', 'ID21W_R0Water', 'ID21W_R13Water', 'ID22X_BDCFat', 'ID22X_BDCWater', 'ID22X_R0Fat', 'ID22X_R0Water', 'ID22X_R13Fat', 'ID22X_R13Water', 'ID23Y_BDCFat', 'ID23Y_BDCWater', 'ID23Y_R0Fat', 'ID23Y_R0Water', 'ID23Y_R13Fat', 'ID23Y_R13Water', 'ID24Z_BDCFat', 'ID24Z_BDCWater', 'ID24Z_R0Fat', 'ID24Z_R0Water', 'ID24Z_R13Fat', 'ID24Z_R13Water', 'ID2B_BDCFat', 'ID2B_BDCWater', 'ID2B_R0Fat', 'ID2B_R0Water', 'ID2B_R13Fat', 'ID2B_R13Water', 'ID3C_BDCFat', 'ID3C_BDCWater', 'ID3C_R0Fat', 'ID3C_R0Water', 'ID3C_R13Fat', 'ID3C_R13Water', 'ID4D_BDCFat', 'ID4D_BDCWater', 'ID4D_R0Fat', 'ID4D_R0Water', 'ID4D_R13Fat', 'ID4D_R13Water', 'ID5E_BDCFat', 'ID5E_BDCWater', 'ID5E_R0Fat', 'ID5E_R0Water', 'ID5E_R13Fat', 'ID5E_R13Water', 'ID6F_R0Fat', 'ID6F_R13Fat', 'ID7G_BDCFat', 'ID7G_BDCWater', 'ID7G_R0Fat', 'ID7G_R0Water', 'ID7G_R13Fat', 'ID7G_R13Water', 'ID8H_BDCFat', 'ID8H_BDCWater', 'ID8H_R0Fat', 'ID8H_R0Water', 'ID8H_R13Fat', 'ID8H_R13Water', 'ID9J_BDCFat', 'ID9J_BDCWater', 'ID9J_R13Fat', 'ID9J_R13Water', 'Jake_102_T12-S2', 'Jake_103_T12-S2', 'Jake_105_T12-S2', 'Jake_106_T12-S2', 'Jake_115_T12-S2', 'N_Melb_105', 'N_Melb_106', 'N_Melb_115', 'N_Melb_205', 'N_Melb_206', 'N_Melb_215', 'NorthMelb_101_T12-S2', 'NorthMelb_102_T12-S2', 'NorthMelb_201_T12-S2', 'Public_001_3d', 'Public_002_3d', 'Public_003_3d', 'Public_004_3d', 'Public_005_3d', 'Public_006_3d', 'Public_007_3d', 'Public_009_3d', 'Public_010_3d', 'Public_011_3d', 'Public_012_3d', 'Public_013_3d', 'Public_014_3d', 'Public_015_3d', 'Public_016_3d', 'Public_017_3d', 'Public_019_3d', 'Public_020_3d', 'Public_021_3d', 'Public_0555_T2', 'Public_0556_T2', 'Public_0557_T2', 'Public_0558_T2', 'Public_0559_T2', 'Tass_202_T2', 'Tass_203_T2', 'Tass_205_T2', 'Tass_207_T2', 'Tass_208_T2', 'Tass_220_T2', 'Tass_221_T2', 'Tass_222_T2', 'Tass_225_T2', 'Tass_226_T2', 'Tass_227_T2', 'WestBd_101_T12-S2', 'WestBd_102_T12-S2', 'West_Bd_105', 'West_Bd_106', 'West_Bd_115', 'West_Bd_205', 'West_Bd_206', 'West_Bd_215']"
   ]
  },
  {
   "cell_type": "code",
   "execution_count": null,
   "id": "abb29fcd",
   "metadata": {},
   "outputs": [],
   "source": [
    "len(a)"
   ]
  },
  {
   "cell_type": "code",
   "execution_count": null,
   "id": "783c9938",
   "metadata": {},
   "outputs": [],
   "source": []
  }
 ],
 "metadata": {
  "kernelspec": {
   "display_name": "Python [conda env:lipa] *",
   "language": "python",
   "name": "conda-env-lipa-py"
  },
  "language_info": {
   "codemirror_mode": {
    "name": "ipython",
    "version": 3
   },
   "file_extension": ".py",
   "mimetype": "text/x-python",
   "name": "python",
   "nbconvert_exporter": "python",
   "pygments_lexer": "ipython3",
   "version": "3.8.5"
  }
 },
 "nbformat": 4,
 "nbformat_minor": 5
}
