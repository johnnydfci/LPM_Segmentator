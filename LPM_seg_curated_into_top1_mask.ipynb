{
 "cells": [
  {
   "cell_type": "markdown",
   "metadata": {},
   "source": [
    "# **Overview**\n",
    "\n",
    "This script processes medical image segmentation data in `.nii.gz` format. The main steps include:\n",
    "1. **Reading NIfTI Files**: The script reads `.nii.gz` files representing segmentation data.\n",
    "2. **Processing the Data**: It processes the segmentation arrays, curates the largest mask for specific labels (1 to 4), and combines them into a final segmentation array.\n",
    "3. **Saving the Processed Data**: The processed segmentation arrays are saved as new NIfTI files.\n",
    "\n",
    "---\n",
    "\n",
    "## **Key Steps**\n",
    "\n",
    "### **1. Saving Numpy Arrays to NIfTI Files**\n",
    "- **Function** `save_array_to_nii`: Converts a numpy array to a NIfTI image and saves it with the same spacing, direction, and origin as the template NIfTI.\n",
    "\n",
    "### **2. File Path Matching**\n",
    "- A directory is searched for `.nii.gz` files, and paths to the files are collected.\n",
    "\n",
    "### **3. Data Processing**\n",
    "- For each segmentation file:\n",
    "  - The array is split by labels (1 through 4).\n",
    "  - Each label array is processed to retain only the largest connected mask for that label.\n",
    "  - The individual label arrays are combined into a final segmentation array.\n",
    "\n",
    "### **4. Saving Results**\n",
    "- The processed segmentation array is saved as a new NIfTI file using the `save_array_to_nii` function.\n",
    "\n",
    "---\n",
    "\n",
    "## **Requirements**\n",
    "- Python packages: `SimpleITK`, `numpy`, `os`, `shutil`, and custom helper functions.\n"
   ]
  },
  {
   "cell_type": "code",
   "execution_count": 7,
   "metadata": {},
   "outputs": [],
   "source": [
    "# CELL 1: Importing Required Libraries and Defining Helper Function\n",
    "import SimpleITK as sitk\n",
    "import numpy as np\n",
    "from skimage import measure\n",
    "# Function to save a numpy array as a NIfTI file with metadata from a template image\n",
    "def save_array_to_nii(mask_array, nii_template_path, nii_save_path):\n",
    "\n",
    "    sitk_image_object = sitk.ReadImage(nii_template_path)\n",
    "    output_spacing = sitk_image_object.GetSpacing()\n",
    "    output_direction = sitk_image_object.GetDirection()\n",
    "    output_origin = sitk_image_object.GetOrigin()\n",
    "#     print(output_spacing ,output_direction,output_origin)\n",
    "\n",
    "    nrrd_output = sitk.GetImageFromArray(mask_array)\n",
    "    nrrd_output.SetSpacing(output_spacing)\n",
    "    nrrd_output.SetDirection(output_direction)\n",
    "    nrrd_output.SetOrigin(output_origin)\n",
    "\n",
    "    nrrdWriter = sitk.ImageFileWriter()\n",
    "    nrrdWriter.SetFileName(nii_save_path)\n",
    "    nrrdWriter.SetUseCompression(True)\n",
    "    nrrdWriter.Execute(nrrd_output)\n",
    "    print(nii_save_path ,'saved')"
   ]
  },
  {
   "cell_type": "code",
   "execution_count": 8,
   "metadata": {
    "scrolled": true
   },
   "outputs": [
    {
     "name": "stdout",
     "output_type": "stream",
     "text": [
      "Number of images found: 2\n"
     ]
    }
   ],
   "source": [
    "# CELL 2: Collecting Image Paths\n",
    "import os\n",
    "\n",
    "# Directory containing segmentation files\n",
    "data_dir = 'nnUNet_raw_data_base/nnUNet_test_data/test_seg_in_nii_raw/'\n",
    "\n",
    "# Collect and sort paths of all .nii.gz files in the directory\n",
    "image_paths = sorted([os.path.join(r, file) for r, d, f in os.walk(data_dir) for file in f if '.nii.gz' in file])\n",
    "\n",
    "# Print the number of images found\n",
    "print(f\"Number of images found: {len(image_paths)}\")\n"
   ]
  },
  {
   "cell_type": "code",
   "execution_count": 9,
   "metadata": {},
   "outputs": [
    {
     "name": "stdout",
     "output_type": "stream",
     "text": [
      "Processing 1/2: nnUNet_raw_data_base/nnUNet_test_data/test_seg_in_nii_raw/TUM01_fat_img_img_L2-L5_nnunet_to_seg.nii.gz\n",
      "nnUNet_raw_data_base/nnUNet_test_data/test_seg_in_nii/TUM01_fat_img_img_L2-L5_nnunet_to_seg_largest_curated.nii.gz saved\n",
      "Processed and saved: nnUNet_raw_data_base/nnUNet_test_data/test_seg_in_nii/TUM01_fat_img_img_L2-L5_nnunet_to_seg_largest_curated.nii.gz\n",
      "\n",
      "Processing 2/2: nnUNet_raw_data_base/nnUNet_test_data/test_seg_in_nii_raw/TUM01_water_img_img_L2-L5_nnunet_to_seg.nii.gz\n",
      "nnUNet_raw_data_base/nnUNet_test_data/test_seg_in_nii/TUM01_water_img_img_L2-L5_nnunet_to_seg_largest_curated.nii.gz saved\n",
      "Processed and saved: nnUNet_raw_data_base/nnUNet_test_data/test_seg_in_nii/TUM01_water_img_img_L2-L5_nnunet_to_seg_largest_curated.nii.gz\n",
      "\n"
     ]
    }
   ],
   "source": [
    "# CELL 3: Processing and Saving the Curated Segmentation\n",
    "from test_scripts.image_postprocessing_test import get_biggst_mask_array\n",
    "\n",
    "# Directory to save the processed images\n",
    "targ_dir = 'nnUNet_raw_data_base/nnUNet_test_data/test_seg_in_nii/'\n",
    "\n",
    "# Iterate through each segmentation image path\n",
    "for idx, img_path in enumerate(image_paths):\n",
    "    print(f\"Processing {idx+1}/{len(image_paths)}: {img_path}\")\n",
    "\n",
    "    # Read the segmentation image\n",
    "    seg_array = sitk.GetArrayFromImage(sitk.ReadImage(img_path))\n",
    "\n",
    "    # Process each label (1 through 4), isolating and keeping the largest connected component\n",
    "    processed_arrays = []\n",
    "    for label in range(1, 5):\n",
    "        label_array = np.copy(seg_array)\n",
    "        label_array[label_array != label] = 0  # Keep only pixels of the current label\n",
    "        label_array[label_array != 0] = 1  # Set non-zero pixels to 1\n",
    "        processed_arrays.append(get_biggst_mask_array(label_array) * label)  # Keep the largest component\n",
    "\n",
    "    # Combine the processed arrays into the final segmentation\n",
    "    final_seg_array = sum(processed_arrays)\n",
    "\n",
    "    # Define the save path for the processed image\n",
    "    target_path = os.path.join(targ_dir, os.path.basename(img_path).replace('.nii.gz', '_largest_curated.nii.gz'))\n",
    "\n",
    "    # Save the final segmentation array to a NIfTI file\n",
    "    save_array_to_nii(final_seg_array, img_path, target_path)\n",
    "    print(f\"Processed and saved: {target_path}\\n\")\n"
   ]
  },
  {
   "cell_type": "code",
   "execution_count": null,
   "metadata": {},
   "outputs": [],
   "source": []
  },
  {
   "cell_type": "code",
   "execution_count": null,
   "metadata": {},
   "outputs": [],
   "source": []
  }
 ],
 "metadata": {
  "kernelspec": {
   "display_name": "Python [conda env:lipa]",
   "language": "python",
   "name": "conda-env-lipa-py"
  },
  "language_info": {
   "codemirror_mode": {
    "name": "ipython",
    "version": 3
   },
   "file_extension": ".py",
   "mimetype": "text/x-python",
   "name": "python",
   "nbconvert_exporter": "python",
   "pygments_lexer": "ipython3",
   "version": "3.8.5"
  }
 },
 "nbformat": 4,
 "nbformat_minor": 4
}
