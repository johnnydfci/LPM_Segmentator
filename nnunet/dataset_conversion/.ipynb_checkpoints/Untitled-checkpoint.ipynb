{
 "cells": [
  {
   "cell_type": "code",
   "execution_count": 1,
   "id": "17c613a6",
   "metadata": {},
   "outputs": [
    {
     "name": "stdout",
     "output_type": "stream",
     "text": [
      "nnUNet_train_data_raw\n",
      "nnUNet_train_data\n",
      "nnUNet_test_data\n",
      "nnUNet_raw_data\n",
      "nnUNet_cropped_data\n"
     ]
    }
   ],
   "source": [
    "import os\n",
    "data_dir = '../../nnUNet_raw_data_base'\n",
    "for d in os.listdir(data_dir):\n",
    "    print(d)"
   ]
  },
  {
   "cell_type": "code",
   "execution_count": null,
   "id": "84e315d7",
   "metadata": {},
   "outputs": [],
   "source": []
  }
 ],
 "metadata": {
  "kernelspec": {
   "display_name": "Python [conda env:lipa] *",
   "language": "python",
   "name": "conda-env-lipa-py"
  },
  "language_info": {
   "codemirror_mode": {
    "name": "ipython",
    "version": 3
   },
   "file_extension": ".py",
   "mimetype": "text/x-python",
   "name": "python",
   "nbconvert_exporter": "python",
   "pygments_lexer": "ipython3",
   "version": "3.8.5"
  }
 },
 "nbformat": 4,
 "nbformat_minor": 5
}
