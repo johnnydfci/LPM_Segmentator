{
 "cells": [
  {
   "cell_type": "markdown",
   "id": "638e59c4",
   "metadata": {},
   "source": [
    "# Preparing Training Data for nnU-Net Segmentation\n",
    "\n",
    "## Overview\n",
    "This script prepares training datasets for nnU-Net segmentation tasks by:\n",
    "1. Verifying that the dimensions and spacing of image and segmentation files match.\n",
    "2. Extracting and organizing the image and segmentation files into case-specific folders following the nnU-Net naming conventions.\n",
    "\n",
    "## Workflow\n",
    "### **Cell 1: Loading File Paths**\n",
    "- Reads all `.nii.gz` images and corresponding segmentations from specified directories.\n",
    "- Verifies the number of image and segmentation files is consistent.\n",
    "\n",
    "### **Cell 2: Validation of Image and Segmentation Files**\n",
    "- Uses the SimpleITK library to:\n",
    "  - Read `.nii.gz` files into arrays.\n",
    "  - Validate that image and segmentation shapes and spacings match.\n",
    "- If mismatches are found, an exception is raised.\n",
    "\n",
    "### **Cell 3: Extracting Case Identifiers**\n",
    "- Extracts unique case identifiers from filenames to organize them into case-specific directories.\n",
    "\n",
    "### **Cell 4: Organizing Files**\n",
    "- Creates a target directory structure where each case has its own folder.\n",
    "- Copies and renames the images as `imaging.nii.gz` and segmentations as `segmentation.nii.gz` for nnU-Net compatibility.\n",
    "\n",
    "## Required Libraries\n",
    "- `os` and `glob` for file and directory management.\n",
    "- `shutil` for file operations.\n",
    "- `SimpleITK` for medical image processing.\n",
    "\n",
    "## Output\n",
    "- Case-specific directories containing properly named image and segmentation files.\n",
    "\n",
    "## Note\n",
    "- Ensure the input directories and target directory are correctly specified.\n",
    "- Verify that the `SimpleITK` library is installed before running this script.\n"
   ]
  },
  {
   "cell_type": "code",
   "execution_count": null,
   "id": "341f10d7",
   "metadata": {},
   "outputs": [],
   "source": [
    "import os, glob, random, shutil\n",
    "\n",
    "# Directories containing training images and segmentations\n",
    "img_dir_train = 'nnUNet_raw_data_base/nnUNet_train_data_raw/img_in_nii_L2-L5/'\n",
    "seg_dir_train = 'nnUNet_raw_data_base/nnUNet_train_data_raw/seg_in_nii_L2-L5/'\n",
    "\n",
    "# Retrieve sorted lists of image and segmentation files\n",
    "train_images = sorted(glob.glob(os.path.join(img_dir_train, '*.nii.gz')))\n",
    "train_labels = sorted(glob.glob(os.path.join(seg_dir_train, '*.nii.gz')))\n",
    "\n",
    "# Print the number of images and labels, and an example file for verification\n",
    "print(f\"Number of Images: {len(train_images)}, Number of Labels: {len(train_labels)}\")\n",
    "print(f\"Example Image: {train_images[-1]}, Example Label: {train_labels[-1]}\")\n"
   ]
  },
  {
   "cell_type": "code",
   "execution_count": null,
   "id": "4bd4478c",
   "metadata": {
    "scrolled": true
   },
   "outputs": [],
   "source": [
    "import SimpleITK as sitk  \n",
    "\n",
    "# Validate that image and segmentation dimensions and spacing match\n",
    "for idx in range(len(train_images)):\n",
    "    # Load image and segmentation using SimpleITK\n",
    "    img_sitk = sitk.ReadImage(train_images[idx])\n",
    "    img_array = sitk.GetArrayFromImage(img_sitk)\n",
    "    \n",
    "    seg_sitk = sitk.ReadImage(train_labels[idx])\n",
    "    seg_array = sitk.GetArrayFromImage(seg_sitk)\n",
    "    \n",
    "    # Print the shapes and spacings for debugging\n",
    "    print(f\"{idx}: Image Shape: {img_array.shape}, Segmentation Shape: {seg_array.shape}\")\n",
    "    print(f\"Image Spacing: {img_sitk.GetSpacing()}, Segmentation Spacing: {seg_sitk.GetSpacing()}\")\n",
    "    \n",
    "    # Raise exceptions if shapes or spacings do not match\n",
    "    if img_array.shape != seg_array.shape:\n",
    "        raise Exception(f\"Shape Mismatch: {train_images[idx]}\")\n",
    "    if img_sitk.GetSpacing() != seg_sitk.GetSpacing():\n",
    "        raise Exception(f\"Spacing Mismatch: {train_images[idx]}\")\n"
   ]
  },
  {
   "cell_type": "code",
   "execution_count": null,
   "id": "5b569ce9",
   "metadata": {
    "scrolled": true
   },
   "outputs": [],
   "source": [
    "# Extract unique case identifiers from filenames\n",
    "for idx, path in enumerate(train_images):\n",
    "    img_name = os.path.basename(path)  # Extract filename\n",
    "    indices = [i for i, c in enumerate(img_name) if c == '_']  # Locate underscores\n",
    "    \n",
    "    # Determine case ID based on the naming structure\n",
    "    case_id = img_name[:indices[1]]\n",
    "    if len(indices) > 2 and '_3d' not in img_name:\n",
    "        case_id = img_name[:indices[2]]\n",
    "    \n",
    "    # Print case ID and corresponding file paths for debugging\n",
    "    print(f\"Case ID: {case_id}\")\n",
    "    print(f\"Image Path: {train_images[idx]}, Segmentation Path: {train_labels[idx]}\")\n"
   ]
  },
  {
   "cell_type": "code",
   "execution_count": null,
   "id": "fee2a99d",
   "metadata": {
    "scrolled": true
   },
   "outputs": [],
   "source": [
    "# Target directory for organized training data\n",
    "targ_dir = 'nnUNet_raw_data_base/nnUNet_train_data/Task515_muscle_raw/'\n",
    "\n",
    "# Organize files into case-specific directories\n",
    "for idx, path in enumerate(train_images):\n",
    "    img_name = os.path.basename(path)\n",
    "    indices = [i for i, c in enumerate(img_name) if c == '_']\n",
    "    \n",
    "    # Extract case ID\n",
    "    case_id = img_name[:indices[1]]\n",
    "    if len(indices) > 2 and '_3d' not in img_name:\n",
    "        case_id = img_name[:indices[2]]\n",
    "    \n",
    "    # Create case-specific directory if it doesn't exist\n",
    "    case_dir = os.path.join(targ_dir, case_id)\n",
    "    if not os.path.exists(case_dir):\n",
    "        os.mkdir(case_dir)\n",
    "    \n",
    "    # Define target paths for image and segmentation files\n",
    "    targ_img_path = os.path.join(case_dir, 'imaging.nii.gz')\n",
    "    targ_seg_path = os.path.join(case_dir, 'segmentation.nii.gz')\n",
    "    \n",
    "    # Copy and rename files into the target directory\n",
    "    shutil.copy(train_images[idx], targ_img_path)\n",
    "    shutil.copy(train_labels[idx], targ_seg_path)\n",
    "    \n",
    "    # Print paths for debugging\n",
    "    print(f\"Copied Image: {targ_img_path}, Copied Segmentation: {targ_seg_path}\")\n"
   ]
  },
  {
   "cell_type": "code",
   "execution_count": null,
   "id": "783c9938",
   "metadata": {},
   "outputs": [],
   "source": []
  }
 ],
 "metadata": {
  "kernelspec": {
   "display_name": "Python [conda env:lipa] *",
   "language": "python",
   "name": "conda-env-lipa-py"
  },
  "language_info": {
   "codemirror_mode": {
    "name": "ipython",
    "version": 3
   },
   "file_extension": ".py",
   "mimetype": "text/x-python",
   "name": "python",
   "nbconvert_exporter": "python",
   "pygments_lexer": "ipython3",
   "version": "3.8.5"
  }
 },
 "nbformat": 4,
 "nbformat_minor": 5
}
