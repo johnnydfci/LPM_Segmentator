{
 "cells": [
  {
   "cell_type": "code",
   "execution_count": null,
   "id": "341f10d7",
   "metadata": {},
   "outputs": [],
   "source": [
    "import shutil, os, glob\n",
    "\n",
    "img_dir = 'nnUNet_raw_data_base/nnUNet_test_data/test_img_in_nii_raw/'\n",
    "targ_dir = 'nnUNet_raw_data_base/nnUNet_test_data/test_img_in_nii/'\n",
    "test_images = sorted(glob.glob(os.path.join(img_dir, '*.nii.gz*'))) \n",
    "\n",
    "for idx, img_path in enumerate(test_images):\n",
    "    print(idx, img_path)\n",
    "    targ_path =  targ_dir + img_path.split('/')[-1].replace( '.nii.gz','_nnunet_to_seg_0000.nii.gz')\n",
    "    print(idx,targ_path)\n",
    "    print('\\n\\n\\n')\n",
    "    shutil.copy(img_path, targ_path)"
   ]
  },
  {
   "cell_type": "code",
   "execution_count": null,
   "id": "8acdb1ff",
   "metadata": {},
   "outputs": [],
   "source": []
  }
 ],
 "metadata": {
  "kernelspec": {
   "display_name": "Python [conda env:lipa] *",
   "language": "python",
   "name": "conda-env-lipa-py"
  },
  "language_info": {
   "codemirror_mode": {
    "name": "ipython",
    "version": 3
   },
   "file_extension": ".py",
   "mimetype": "text/x-python",
   "name": "python",
   "nbconvert_exporter": "python",
   "pygments_lexer": "ipython3",
   "version": "3.8.5"
  }
 },
 "nbformat": 4,
 "nbformat_minor": 5
}
