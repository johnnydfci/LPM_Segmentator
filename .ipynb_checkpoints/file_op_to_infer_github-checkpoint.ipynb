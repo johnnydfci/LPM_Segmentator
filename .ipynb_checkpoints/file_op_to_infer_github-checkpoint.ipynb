{
 "cells": [
  {
   "cell_type": "markdown",
   "id": "f0d82567",
   "metadata": {},
   "source": [
    "# Preparing Files for nnU-Net Segmentation Inference\n",
    "\n",
    "## Overview\n",
    "This script prepares medical imaging files for nnU-Net segmentation inference by:\n",
    "1. Locating all input `.nii.gz` files in a specified directory.\n",
    "2. Renaming and copying these files into a target directory with the appropriate nnU-Net naming convention (`<filename>_0000.nii.gz`).\n",
    "\n",
    "## Workflow\n",
    "1. **Input Directory**: Contains the raw `.nii.gz` files for segmentation inference.\n",
    "2. **Output Directory**: Stores the copied files renamed according to the nnU-Net requirements.\n",
    "3. **nnU-Net Naming Convention**: Appends `_nnunet_to_seg_0000` to each file before `.nii.gz`.\n",
    "\n",
    "## Required Libraries\n",
    "- `shutil` for file copying.\n",
    "- `os` and `glob` for file and directory management.\n",
    "\n",
    "## Output\n",
    "- The renamed files are copied into the target directory for use in nnU-Net segmentation inference.\n",
    "\n",
    "## Note\n",
    "Ensure the input and output directories are correctly specified before running the script.\n"
   ]
  },
  {
   "cell_type": "code",
   "execution_count": null,
   "id": "341f10d7",
   "metadata": {},
   "outputs": [],
   "source": [
    "import shutil  # For copying files\n",
    "import os  # For path manipulation\n",
    "import glob  # For searching files\n",
    "\n",
    "# Define input and output directories\n",
    "img_dir = 'nnUNet_raw_data_base/nnUNet_test_data/test_img_in_nii_raw/'  # Directory with raw test images\n",
    "targ_dir = 'nnUNet_raw_data_base/nnUNet_test_data/test_img_in_nii/'  # Target directory for renamed files\n",
    "\n",
    "# Retrieve all .nii.gz files in the input directory and sort them for consistent processing\n",
    "test_images = sorted(glob.glob(os.path.join(img_dir, '*.nii.gz*'))) \n",
    "\n",
    "# Iterate over each image file\n",
    "for idx, img_path in enumerate(test_images):\n",
    "    # Print the index and source file path (for debugging or tracking progress)\n",
    "    print(f\"Processing {idx}: {img_path}\")\n",
    "    \n",
    "    # Construct the target path with the nnU-Net naming convention\n",
    "    # Replace '.nii.gz' with '_nnunet_to_seg_0000.nii.gz' in the filename\n",
    "    targ_path = os.path.join(targ_dir, img_path.split('/')[-1].replace('.nii.gz', '_nnunet_to_seg_0000.nii.gz'))\n",
    "    \n",
    "    # Print the index and target file path (for verification)\n",
    "    print(f\"Renaming to: {targ_path}\\n\")\n",
    "    \n",
    "    # Copy the file to the target directory with the new name\n",
    "    shutil.copy(img_path, targ_path)\n"
   ]
  },
  {
   "cell_type": "code",
   "execution_count": null,
   "id": "8acdb1ff",
   "metadata": {},
   "outputs": [],
   "source": []
  }
 ],
 "metadata": {
  "kernelspec": {
   "display_name": "Python [conda env:lipa] *",
   "language": "python",
   "name": "conda-env-lipa-py"
  },
  "language_info": {
   "codemirror_mode": {
    "name": "ipython",
    "version": 3
   },
   "file_extension": ".py",
   "mimetype": "text/x-python",
   "name": "python",
   "nbconvert_exporter": "python",
   "pygments_lexer": "ipython3",
   "version": "3.8.5"
  }
 },
 "nbformat": 4,
 "nbformat_minor": 5
}
