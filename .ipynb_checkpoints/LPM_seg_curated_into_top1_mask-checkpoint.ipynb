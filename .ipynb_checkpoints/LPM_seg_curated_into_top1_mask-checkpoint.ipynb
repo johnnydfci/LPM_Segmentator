{
 "cells": [
  {
   "cell_type": "code",
   "execution_count": null,
   "metadata": {},
   "outputs": [],
   "source": [
    "import SimpleITK as sitk\n",
    "\n",
    "def save_array_to_nii(mask_array, nii_template_path, nii_save_path):\n",
    "\n",
    "    sitk_image_object = sitk.ReadImage(nii_template_path)\n",
    "    output_spacing = sitk_image_object.GetSpacing()\n",
    "    output_direction = sitk_image_object.GetDirection()\n",
    "    output_origin = sitk_image_object.GetOrigin()\n",
    "#     print(output_spacing ,output_direction,output_origin)\n",
    "\n",
    "    nrrd_output = sitk.GetImageFromArray(mask_array)\n",
    "    nrrd_output.SetSpacing(output_spacing)\n",
    "    nrrd_output.SetDirection(output_direction)\n",
    "    nrrd_output.SetOrigin(output_origin)\n",
    "\n",
    "    nrrdWriter = sitk.ImageFileWriter()\n",
    "    nrrdWriter.SetFileName(nii_save_path)\n",
    "    nrrdWriter.SetUseCompression(True)\n",
    "    nrrdWriter.Execute(nrrd_output)\n",
    "    print(nii_save_path ,'saved')"
   ]
  },
  {
   "cell_type": "code",
   "execution_count": null,
   "metadata": {
    "scrolled": true
   },
   "outputs": [],
   "source": [
    "import os\n",
    "data_dir = 'nnUNet_raw_data_base/nnUNet_test_data/test_seg_in_nii_raw/'\n",
    "image_paths = []\n",
    "for r, d, f in os.walk(data_dir):\n",
    "    for file in f:\n",
    "        if '.nii.gz' in file :\n",
    "                img_path = os.path.join(r, file)\n",
    "                image_paths.append(img_path)\n",
    "\n",
    "image_paths = sorted(image_paths)\n",
    "print(len(image_paths))"
   ]
  },
  {
   "cell_type": "code",
   "execution_count": null,
   "metadata": {
    "scrolled": true
   },
   "outputs": [],
   "source": [
    "import shutil,random\n",
    "import SimpleITK as sitk  \n",
    "from test_scripts.image_postprocessing_test import get_biggst_mask_array\n",
    "from test_scripts.sitk_nifti_tools import get_nifti_from_array_via_interspacing,nifiti_save_into_path\n",
    "\n",
    "import numpy as np\n",
    "\n",
    "targ_dir = 'nnUNet_raw_data_base/nnUNet_test_data/test_seg_in_nii/'\n",
    "\n",
    "for idx,img_path in enumerate(image_paths):\n",
    "    print(idx, img_path)\n",
    "    seg_path = img_path\n",
    "    d = img_path.split('/')[-1]\n",
    "    targ_path = targ_dir + d.replace('.nii.gz','_largest_curated.nii.gz')\n",
    "    \n",
    "    template_sitk =sitk.ReadImage(seg_path)\n",
    "    prdCube =  sitk.GetArrayFromImage(template_sitk)\n",
    "\n",
    "    prdCube1 = np.copy(prdCube)\n",
    "    prdCube1[prdCube1!=1]=0\n",
    "    prdCube1[prdCube1!=0]=1\n",
    "    prdCube1 = get_biggst_mask_array(prdCube1)\n",
    "    prdCube1 = prdCube1 * 1\n",
    "\n",
    "    prdCube2 = np.copy(prdCube)\n",
    "    prdCube2[prdCube2!=2]=0\n",
    "    prdCube2[prdCube2!=0]=1\n",
    "    prdCube2 = get_biggst_mask_array(prdCube2)\n",
    "    prdCube2 = prdCube2 * 2\n",
    "    \n",
    "    prdCube3 = np.copy(prdCube)\n",
    "    prdCube3[prdCube3!=3]=0\n",
    "    prdCube3[prdCube3!=0]=1\n",
    "    prdCube3 = get_biggst_mask_array(prdCube3)\n",
    "    prdCube3 = prdCube3 * 3\n",
    "    \n",
    "    prdCube4 = np.copy(prdCube)\n",
    "    prdCube4[prdCube4!=4]=0\n",
    "    prdCube4[prdCube4!=0]=1\n",
    "    prdCube4 = get_biggst_mask_array(prdCube4)\n",
    "    prdCube4 = prdCube4 * 4\n",
    "    \n",
    "    print(prdCube4.shape)\n",
    "    \n",
    "    seg_array =  prdCube1 +  prdCube2 +  prdCube3 +  prdCube4\n",
    "#     seg_array =   prdCube4\n",
    "\n",
    "    print(seg_array.shape)\n",
    "\n",
    "#     inter_spacing = template_sitk.GetSpacing()\n",
    "#     sitk_output = get_nifti_from_array_via_interspacing(seg_array,inter_spacing,template_sitk)\n",
    "#     nifiti_save_into_path(sitk_output,targ_path)\n",
    "    \n",
    "#     seg_array =  prdCube1 +  prdCube2 +  prdCube3 +  prdCube4\n",
    "    save_array_to_nii(seg_array, seg_path, targ_path )\n",
    "    print(idx,'th curated and saved',targ_path)    \n",
    "    print(' \\n\\n\\n')"
   ]
  },
  {
   "cell_type": "code",
   "execution_count": null,
   "metadata": {},
   "outputs": [],
   "source": []
  }
 ],
 "metadata": {
  "kernelspec": {
   "display_name": "Python [conda env:lipa] *",
   "language": "python",
   "name": "conda-env-lipa-py"
  },
  "language_info": {
   "codemirror_mode": {
    "name": "ipython",
    "version": 3
   },
   "file_extension": ".py",
   "mimetype": "text/x-python",
   "name": "python",
   "nbconvert_exporter": "python",
   "pygments_lexer": "ipython3",
   "version": "3.8.5"
  }
 },
 "nbformat": 4,
 "nbformat_minor": 4
}
