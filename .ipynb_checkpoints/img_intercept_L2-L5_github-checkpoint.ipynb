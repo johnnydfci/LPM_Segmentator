{
 "cells": [
  {
   "cell_type": "markdown",
   "metadata": {},
   "source": [
    "# Automated Cropping and Saving of Medical Imaging Data\n",
    "\n",
    "## Overview\n",
    "This notebook processes 3D medical images (stored as `.nii.gz` files) by:\n",
    "1. Reading slice selection information from a CSV file.\n",
    "2. Cropping the images based on specified slice ranges.\n",
    "3. Saving the cropped images as new `.nii.gz` files, preserving the original metadata.\n",
    "\n",
    "The workflow uses `SimpleITK` for handling medical imaging data and `pandas` for managing metadata in the CSV file.\n",
    "\n",
    "## Prerequisites\n",
    "- Input data:\n",
    "  - A directory containing `.nii.gz` files.\n",
    "  - A CSV file with columns:\n",
    "    - `pid`: Patient identifier matching the image file prefix.\n",
    "    - `slice_start` and `slice_stop`: Start and end indices for cropping.\n",
    "- Python libraries: `SimpleITK`, `pandas`, `numpy`, `os`, `glob`.\n",
    "\n",
    "## Output\n",
    "The cropped images are saved in a specified output directory with filenames formatted as `<pid>_img_L2-L5.nii.gz`.\n"
   ]
  },
  {
   "cell_type": "code",
   "execution_count": 3,
   "metadata": {},
   "outputs": [],
   "source": [
    "import SimpleITK as sitk\n",
    "\n",
    "# Function to save a NumPy array as a NIfTI (.nii) file\n",
    "# Parameters:\n",
    "# - mask_array: The 3D NumPy array to be saved as a NIfTI file.\n",
    "# - nii_template_path: Path to an existing NIfTI file used as a template for metadata (spacing, direction, origin).\n",
    "# - nii_save_path: Output path to save the new NIfTI file.\n",
    "def save_array_to_nii(mask_array, nii_template_path, nii_save_path):\n",
    "    # Read the template NIfTI file to extract metadata\n",
    "    sitk_image_object = sitk.ReadImage(nii_template_path)\n",
    "    output_spacing = sitk_image_object.GetSpacing()       # Voxel spacing\n",
    "    output_direction = sitk_image_object.GetDirection()   # Orientation of the image\n",
    "    output_origin = sitk_image_object.GetOrigin()         # Position in physical space\n",
    "\n",
    "    # Convert NumPy array to a SimpleITK image object\n",
    "    nrrd_output = sitk.GetImageFromArray(mask_array)\n",
    "    # Set the metadata from the template\n",
    "    nrrd_output.SetSpacing(output_spacing)\n",
    "    nrrd_output.SetDirection(output_direction)\n",
    "    nrrd_output.SetOrigin(output_origin)\n",
    "\n",
    "    # Save the NIfTI file with compression enabled\n",
    "    nrrdWriter = sitk.ImageFileWriter()\n",
    "    nrrdWriter.SetFileName(nii_save_path)\n",
    "    nrrdWriter.SetUseCompression(True)\n",
    "    nrrdWriter.Execute(nrrd_output)\n",
    "\n",
    "    # Log the saved file path\n",
    "    print(nii_save_path, 'saved')\n"
   ]
  },
  {
   "cell_type": "code",
   "execution_count": null,
   "metadata": {
    "scrolled": true
   },
   "outputs": [],
   "source": [
    "import os\n",
    "import glob\n",
    "import pandas as pd\n",
    "import numpy as np\n",
    "\n",
    "# Paths to input files and directories\n",
    "csv_path = 'csv/MyoSegmenTUM_54_water_fat_L2-L5.csv'  # Path to the CSV file with slice indices\n",
    "img_dir = 'nnUNet_raw_data_base/nnUNet_train_data_raw/img_in_nii/'  # Directory with original NIfTI files\n",
    "img_L25_dir = 'nnUNet_raw_data_base/nnUNet_train_data_raw/img_in_nii_L2-L5/'  # Directory for cropped output files\n",
    "\n",
    "# Load the CSV file into a DataFrame\n",
    "df = pd.read_csv(csv_path)\n",
    "\n",
    "# Iterate over each row in the CSV file\n",
    "for index, row in df.iterrows():\n",
    "    # Extract patient ID and locate the corresponding image file\n",
    "    pid = row['pid']\n",
    "    img_path = glob.glob(os.path.join(img_dir, pid + '*.nii.gz'))  # Find the .nii.gz file for the patient\n",
    "    \n",
    "    if len(img_path) >0:\n",
    "        img_path = img_path[0]\n",
    "    \n",
    "        print(img_path)  # Debug: Print the path of the found image file\n",
    "\n",
    "        # Define the target path for the cropped image\n",
    "        targ_path = os.path.join(img_L25_dir, f\"{pid}_img_L2-L5.nii.gz\")\n",
    "\n",
    "        # Load the image as a SimpleITK object and convert it to a NumPy array\n",
    "        img_sitk = sitk.ReadImage(img_path)\n",
    "        img_array = sitk.GetArrayFromImage(img_sitk)\n",
    "        print(img_array.shape)  # Debug: Print the shape of the full 3D image array\n",
    "\n",
    "        # Extract the slice range from the CSV file\n",
    "        slice_start, slice_stop = int(row['slice_start']), int(row['slice_stop'])\n",
    "        img_crop_array = img_array[slice_start:slice_stop, :, :]  # Crop the array along the first axis (slices)\n",
    "        print(slice_start, slice_stop, img_crop_array.shape)  # Debug: Print slice range and cropped shape\n",
    "\n",
    "        # Save the cropped array as a new NIfTI file\n",
    "        save_array_to_nii(img_crop_array, img_path, targ_path)\n"
   ]
  },
  {
   "cell_type": "code",
   "execution_count": null,
   "metadata": {},
   "outputs": [],
   "source": []
  }
 ],
 "metadata": {
  "kernelspec": {
   "display_name": "Python [conda env:lipa]",
   "language": "python",
   "name": "conda-env-lipa-py"
  },
  "language_info": {
   "codemirror_mode": {
    "name": "ipython",
    "version": 3
   },
   "file_extension": ".py",
   "mimetype": "text/x-python",
   "name": "python",
   "nbconvert_exporter": "python",
   "pygments_lexer": "ipython3",
   "version": "3.8.5"
  }
 },
 "nbformat": 4,
 "nbformat_minor": 4
}
