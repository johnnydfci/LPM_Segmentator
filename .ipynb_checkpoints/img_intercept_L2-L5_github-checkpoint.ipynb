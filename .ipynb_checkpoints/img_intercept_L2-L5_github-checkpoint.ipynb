{
 "cells": [
  {
   "cell_type": "code",
   "execution_count": 3,
   "metadata": {},
   "outputs": [],
   "source": [
    "import SimpleITK as sitk\n",
    "\n",
    "def save_array_to_nii(mask_array, nii_template_path, nii_save_path):\n",
    "\n",
    "    sitk_image_object = sitk.ReadImage(nii_template_path)\n",
    "    output_spacing = sitk_image_object.GetSpacing()\n",
    "    output_direction = sitk_image_object.GetDirection()\n",
    "    output_origin = sitk_image_object.GetOrigin()\n",
    "#     print(output_spacing ,output_direction,output_origin)\n",
    "\n",
    "    nrrd_output = sitk.GetImageFromArray(mask_array)\n",
    "    nrrd_output.SetSpacing(output_spacing)\n",
    "    nrrd_output.SetDirection(output_direction)\n",
    "    nrrd_output.SetOrigin(output_origin)\n",
    "\n",
    "    nrrdWriter = sitk.ImageFileWriter()\n",
    "    nrrdWriter.SetFileName(nii_save_path)\n",
    "    nrrdWriter.SetUseCompression(True)\n",
    "    nrrdWriter.Execute(nrrd_output)\n",
    "    print(nii_save_path ,'saved')"
   ]
  },
  {
   "cell_type": "code",
   "execution_count": 4,
   "metadata": {
    "scrolled": true
   },
   "outputs": [
    {
     "name": "stdout",
     "output_type": "stream",
     "text": [
      "nnUNet_raw_data_base/nnUNet_train_data_raw/img_in_nii/10_T1DUAL_DICOM_anon_InPhase_img.nii.gz\n",
      "(55, 485, 485)\n",
      "0 15 (15, 485, 485)\n",
      "nnUNet_raw_data_base/nnUNet_train_data_raw/img_in_nii_L2-L5/10_T1DUAL_DICOM_anon_InPhase_img_img_L2-L5.nii.gz saved\n",
      "nnUNet_raw_data_base/nnUNet_train_data_raw/img_in_nii/10_T1DUAL_DICOM_anon_OutPhase_img.nii.gz\n",
      "(50, 256, 256)\n",
      "0 25 (25, 256, 256)\n",
      "nnUNet_raw_data_base/nnUNet_train_data_raw/img_in_nii_L2-L5/10_T1DUAL_DICOM_anon_OutPhase_img_img_L2-L5.nii.gz saved\n",
      "nnUNet_raw_data_base/nnUNet_train_data_raw/img_in_nii/10_T2SPIR_DICOM_anon_img.nii.gz\n",
      "(36, 256, 256)\n",
      "0 21 (21, 256, 256)\n",
      "nnUNet_raw_data_base/nnUNet_train_data_raw/img_in_nii_L2-L5/10_T2SPIR_DICOM_anon_img_img_L2-L5.nii.gz saved\n",
      "nnUNet_raw_data_base/nnUNet_train_data_raw/img_in_nii/11_T1DUAL_InPhase_img.nii.gz\n",
      "(26, 256, 256)\n",
      "0 9 (9, 256, 256)\n",
      "nnUNet_raw_data_base/nnUNet_train_data_raw/img_in_nii_L2-L5/11_T1DUAL_InPhase_img_img_L2-L5.nii.gz saved\n",
      "nnUNet_raw_data_base/nnUNet_train_data_raw/img_in_nii/11_T1DUAL_OutPhase_img.nii.gz\n",
      "(26, 256, 256)\n",
      "0 13 (13, 256, 256)\n",
      "nnUNet_raw_data_base/nnUNet_train_data_raw/img_in_nii_L2-L5/11_T1DUAL_OutPhase_img_img_L2-L5.nii.gz saved\n",
      "nnUNet_raw_data_base/nnUNet_train_data_raw/img_in_nii/11_T2SPIR_img.nii.gz\n",
      "(26, 256, 256)\n",
      "0 8 (8, 256, 256)\n",
      "nnUNet_raw_data_base/nnUNet_train_data_raw/img_in_nii_L2-L5/11_T2SPIR_img_img_L2-L5.nii.gz saved\n",
      "nnUNet_raw_data_base/nnUNet_train_data_raw/img_in_nii/12_T1DUAL_InPhase_img.nii.gz\n",
      "(40, 256, 256)\n",
      "0 7 (7, 256, 256)\n",
      "nnUNet_raw_data_base/nnUNet_train_data_raw/img_in_nii_L2-L5/12_T1DUAL_InPhase_img_img_L2-L5.nii.gz saved\n",
      "nnUNet_raw_data_base/nnUNet_train_data_raw/img_in_nii/12_T1DUAL_OutPhase_img.nii.gz\n",
      "(40, 256, 256)\n",
      "0 10 (10, 256, 256)\n",
      "nnUNet_raw_data_base/nnUNet_train_data_raw/img_in_nii_L2-L5/12_T1DUAL_OutPhase_img_img_L2-L5.nii.gz saved\n",
      "nnUNet_raw_data_base/nnUNet_train_data_raw/img_in_nii/12_T2SPIR_img.nii.gz\n",
      "(36, 256, 256)\n",
      "0 14 (14, 256, 256)\n",
      "nnUNet_raw_data_base/nnUNet_train_data_raw/img_in_nii_L2-L5/12_T2SPIR_img_img_L2-L5.nii.gz saved\n"
     ]
    }
   ],
   "source": [
    "import os, glob, random, shutil\n",
    "import numpy as np\n",
    "import pandas as pd\n",
    "\n",
    "csv_path = 'csv/Chaos_MRI_L2-L5_slice_selection.csv'\n",
    "\n",
    "img_dir = 'nnUNet_raw_data_base/nnUNet_train_data_raw/img_in_nii/'\n",
    "img_L25_dir = 'nnUNet_raw_data_base/nnUNet_train_data_raw/img_in_nii_L2-L5/'\n",
    "\n",
    "\n",
    "df = pd.read_csv(csv_path)\n",
    "\n",
    "for index, row in df.iterrows():\n",
    "    \n",
    "    pid = row['pid']    \n",
    "    img_path = glob.glob(os.path.join(img_dir, pid + '*.nii.gz'))[0]\n",
    "    print(img_path)\n",
    "    targ_path = img_L25_dir +   pid + '_img_L2-L5.nii.gz' \n",
    "    \n",
    "   \n",
    "    img_sitk = sitk.ReadImage(img_path)\n",
    "    img_array =  sitk.GetArrayFromImage(img_sitk)\n",
    "    print(img_array.shape)\n",
    "    \n",
    "    slice_start , slice_stop = int(row['slice_start']), int(row['slice_stop'])\n",
    "    img_crop_array = img_array[ slice_start:slice_stop,:,:]\n",
    "    print( slice_start , slice_stop, img_crop_array.shape)\n",
    "#         print(idx, img_array.shape, img_path, '\\n')\n",
    "\n",
    "    save_array_to_nii(img_crop_array,img_path, targ_path)\n"
   ]
  },
  {
   "cell_type": "code",
   "execution_count": null,
   "metadata": {},
   "outputs": [],
   "source": []
  }
 ],
 "metadata": {
  "kernelspec": {
   "display_name": "Python [conda env:lipa] *",
   "language": "python",
   "name": "conda-env-lipa-py"
  },
  "language_info": {
   "codemirror_mode": {
    "name": "ipython",
    "version": 3
   },
   "file_extension": ".py",
   "mimetype": "text/x-python",
   "name": "python",
   "nbconvert_exporter": "python",
   "pygments_lexer": "ipython3",
   "version": "3.8.5"
  }
 },
 "nbformat": 4,
 "nbformat_minor": 4
}
